{
  "nbformat": 4,
  "nbformat_minor": 0,
  "metadata": {
    "colab": {
      "name": "Unit 2 Assignment 2.ipynb",
      "provenance": [],
      "collapsed_sections": [],
      "authorship_tag": "ABX9TyN13vlOD+rvSau6AmKrHdud",
      "include_colab_link": true
    },
    "kernelspec": {
      "name": "python3",
      "display_name": "Python 3"
    },
    "language_info": {
      "name": "python"
    }
  },
  "cells": [
    {
      "cell_type": "markdown",
      "metadata": {
        "id": "view-in-github",
        "colab_type": "text"
      },
      "source": [
        "<a href=\"https://colab.research.google.com/github/marisol6/Analytics/blob/main/Python/Unit_2_Assignment_2.ipynb\" target=\"_parent\"><img src=\"https://colab.research.google.com/assets/colab-badge.svg\" alt=\"Open In Colab\"/></a>"
      ]
    },
    {
      "cell_type": "code",
      "execution_count": null,
      "metadata": {
        "id": "EHa2UzS4cs73"
      },
      "outputs": [],
      "source": [
        "# 1. Create a list of 5 of your favorite tv shows.\n",
        "tv_shows = ['Seinfeld', 'Breaking Bad', 'Mind Hunter', 'The Office', 'Atlanta']"
      ]
    },
    {
      "cell_type": "code",
      "source": [
        "# 2. Print the list in its original order.\n",
        "print(tv_shows)"
      ],
      "metadata": {
        "colab": {
          "base_uri": "https://localhost:8080/"
        },
        "id": "t-YAzYe2eCnC",
        "outputId": "41847445-47fc-4abb-b577-ab83e1c791ac"
      },
      "execution_count": null,
      "outputs": [
        {
          "output_type": "stream",
          "name": "stdout",
          "text": [
            "['Seinfeld', 'Breaking Bad', 'Mind Hunter', 'The Office', 'Atlanta']\n"
          ]
        }
      ]
    },
    {
      "cell_type": "code",
      "source": [
        "# 3. Use the sorted() function to print the list in alphabetical order. \n",
        "print(sorted(tv_shows))"
      ],
      "metadata": {
        "colab": {
          "base_uri": "https://localhost:8080/"
        },
        "id": "zDl3HUhMehbZ",
        "outputId": "a77ab3f5-0b64-4348-9d1b-a1a724221a2f"
      },
      "execution_count": null,
      "outputs": [
        {
          "output_type": "stream",
          "name": "stdout",
          "text": [
            "['Atlanta', 'Breaking Bad', 'Mind Hunter', 'Seinfeld', 'The Office']\n"
          ]
        }
      ]
    },
    {
      "cell_type": "markdown",
      "source": [
        "How is sorted() different from sort()?\n",
        "\n",
        "  sorted( ) will temporarily sort a list in alphabetical order, whereas sort( ) with permanently sort a list."
      ],
      "metadata": {
        "id": "Y_ySnh9IfT5d"
      }
    },
    {
      "cell_type": "code",
      "source": [
        "# 4. Print out your original list.\n",
        "print(tv_shows)"
      ],
      "metadata": {
        "colab": {
          "base_uri": "https://localhost:8080/"
        },
        "id": "mWQZo-jXfoVy",
        "outputId": "5e7aff14-4040-4aea-e463-7b10f476452a"
      },
      "execution_count": null,
      "outputs": [
        {
          "output_type": "stream",
          "name": "stdout",
          "text": [
            "['Seinfeld', 'Breaking Bad', 'Mind Hunter', 'The Office', 'Atlanta']\n"
          ]
        }
      ]
    },
    {
      "cell_type": "code",
      "source": [
        "# 5. Used sorted() to print your list in reverse alphabetical order.\n",
        "print(sorted(tv_shows, reverse = True))"
      ],
      "metadata": {
        "colab": {
          "base_uri": "https://localhost:8080/"
        },
        "id": "U6vXPXJ0f-KR",
        "outputId": "374169d7-8d74-4ffc-f4f4-2f00d7571d42"
      },
      "execution_count": null,
      "outputs": [
        {
          "output_type": "stream",
          "name": "stdout",
          "text": [
            "['The Office', 'Seinfeld', 'Mind Hunter', 'Breaking Bad', 'Atlanta']\n"
          ]
        }
      ]
    },
    {
      "cell_type": "code",
      "source": [
        "# 6. Create a message indicating how many favorite TV shows you have – use the len() function.\n",
        "message = 'I have ' + str(len(tv_shows)) + ' favorite TV shows!'\n",
        "print(message)"
      ],
      "metadata": {
        "colab": {
          "base_uri": "https://localhost:8080/"
        },
        "id": "uHTyjFE7gSB8",
        "outputId": "062770c6-3eef-4688-a48d-f590393c062f"
      },
      "execution_count": null,
      "outputs": [
        {
          "output_type": "stream",
          "name": "stdout",
          "text": [
            "I have 5 favorite TV shows!\n"
          ]
        }
      ]
    }
  ]
}
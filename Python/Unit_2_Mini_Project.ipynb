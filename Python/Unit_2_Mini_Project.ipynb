{
  "nbformat": 4,
  "nbformat_minor": 0,
  "metadata": {
    "colab": {
      "name": "Unit 2 Mini Project",
      "provenance": [],
      "collapsed_sections": [],
      "authorship_tag": "ABX9TyO4nbHIrQorsiKyshY0VWVM",
      "include_colab_link": true
    },
    "kernelspec": {
      "name": "python3",
      "display_name": "Python 3"
    },
    "language_info": {
      "name": "python"
    }
  },
  "cells": [
    {
      "cell_type": "markdown",
      "metadata": {
        "id": "view-in-github",
        "colab_type": "text"
      },
      "source": [
        "<a href=\"https://colab.research.google.com/github/marisol6/Analytics/blob/main/Python/Unit_2_Mini_Project.ipynb\" target=\"_parent\"><img src=\"https://colab.research.google.com/assets/colab-badge.svg\" alt=\"Open In Colab\"/></a>"
      ]
    },
    {
      "cell_type": "code",
      "execution_count": 6,
      "metadata": {
        "colab": {
          "base_uri": "https://localhost:8080/"
        },
        "id": "g7FG3TvQhigQ",
        "outputId": "a10fca22-e0fd-40f2-e161-b9620c1e9369"
      },
      "outputs": [
        {
          "output_type": "stream",
          "name": "stdout",
          "text": [
            "Enter an integer: 64\n",
            "64 is an even number\n",
            "64 is a multiple of four\n",
            "\n",
            "Enter a second integer: 6\n",
            "64 is not evenly divisble by 6\n"
          ]
        }
      ],
      "source": [
        "num = int(input('Enter an integer: '))\n",
        "\n",
        "\n",
        "def numbers(num):\n",
        "  if num % 2 == 0:\n",
        "    print(f'{num} is an even number')\n",
        "    if num % 4 == 0:\n",
        "      print(f'{num} is a multiple of four\\n')\n",
        "  else:\n",
        "    print(f'{num} is odd\\n')\n",
        "\n",
        "numbers(num)\n",
        "\n",
        "check = int(input('Enter a second integer: '))\n",
        "if num % check == 0:\n",
        "    print(f'{num} is evenly divisible by {check}')\n",
        "else:\n",
        "    print(f'{num} is not evenly divisble by {check}')"
      ]
    }
  ]
}
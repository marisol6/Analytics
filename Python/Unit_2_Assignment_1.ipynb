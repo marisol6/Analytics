{
  "nbformat": 4,
  "nbformat_minor": 0,
  "metadata": {
    "colab": {
      "name": "Unit 2 Assignment 1.ipynb",
      "provenance": [],
      "collapsed_sections": [],
      "authorship_tag": "ABX9TyM34i6bopOvzb8UpKn6+8D3",
      "include_colab_link": true
    },
    "kernelspec": {
      "name": "python3",
      "display_name": "Python 3"
    },
    "language_info": {
      "name": "python"
    }
  },
  "cells": [
    {
      "cell_type": "markdown",
      "metadata": {
        "id": "view-in-github",
        "colab_type": "text"
      },
      "source": [
        "<a href=\"https://colab.research.google.com/github/marisol6/Analytics/blob/main/Python/Unit_2_Assignment_1.ipynb\" target=\"_parent\"><img src=\"https://colab.research.google.com/assets/colab-badge.svg\" alt=\"Open In Colab\"/></a>"
      ]
    },
    {
      "cell_type": "markdown",
      "source": [
        "1. What is Python and why is it useful?\n",
        "  \n",
        "  Python is an object-oriented programming language. Python is useful because of its versatility and numerous libraries that allow it to be used for a wide range of tasks.\n",
        "\n",
        "\n",
        "\n"
      ],
      "metadata": {
        "id": "jI8Shuf05NgI"
      }
    },
    {
      "cell_type": "markdown",
      "source": [
        "2. Are the following variable names allowed in python?\n",
        "\n",
        "  a. 1_message : no, variable names cannot begin with a number\n",
        "  \n",
        "  b. Greeting_message: yes, begins with a letter and uses underscore\n",
        "\n",
        "  c. Message_1: yes, begins with a letter and uses underscore and number\n",
        "\n",
        "  d. First name: no, spaces are not allowed in variable names\n",
        "\n",
        "  e. Full_name: yes, begins with a letter and uses underscore\n",
        "\n"
      ],
      "metadata": {
        "id": "X5UaRvNq6o7w"
      }
    },
    {
      "cell_type": "code",
      "execution_count": null,
      "metadata": {
        "colab": {
          "base_uri": "https://localhost:8080/",
          "height": 35
        },
        "id": "6dr5ty4d5FK0",
        "outputId": "bb429dda-8687-46ed-fc4d-0e5702652168"
      },
      "outputs": [
        {
          "output_type": "execute_result",
          "data": {
            "text/plain": [
              "'hello there!'"
            ],
            "application/vnd.google.colaboratory.intrinsic+json": {
              "type": "string"
            }
          },
          "metadata": {},
          "execution_count": 1
        }
      ],
      "source": [
        "# 3. Create a variable that holds the string “hello there!”\n",
        "\n",
        "message = \"hello there!\"\n",
        "message\n"
      ]
    },
    {
      "cell_type": "markdown",
      "source": [
        ""
      ],
      "metadata": {
        "id": "6ZPF-myM-TBG"
      }
    },
    {
      "cell_type": "code",
      "source": [
        "# 4. Create a variable for first name, last name and an email extension. Concatenating all three together to form an email address.\n",
        "\n",
        "first_name = 'marisol'\n",
        "last_name = 'arellano'\n",
        "extension = '@gmail.com'\n",
        "\n",
        "email = first_name + last_name + extension\n",
        "print(email)"
      ],
      "metadata": {
        "colab": {
          "base_uri": "https://localhost:8080/"
        },
        "id": "jVJrvHAl8LhZ",
        "outputId": "c35f6604-48ca-4586-9be7-bed06357d561"
      },
      "execution_count": null,
      "outputs": [
        {
          "output_type": "stream",
          "name": "stdout",
          "text": [
            "marisolarellano@gmail.com\n"
          ]
        }
      ]
    },
    {
      "cell_type": "code",
      "source": [
        "# 5. Store someone you know name in a variable called name. Print their name in lower and uppercase using a method.\n",
        "\n",
        "name = 'Andrea'\n",
        "lower = name.lower()\n",
        "print(lower)\n",
        "upper = name.upper()\n",
        "print(upper)"
      ],
      "metadata": {
        "colab": {
          "base_uri": "https://localhost:8080/"
        },
        "id": "_5eMOnUw81EY",
        "outputId": "6cdf4537-bbd4-4cbb-b9d8-1908abde6dfb"
      },
      "execution_count": null,
      "outputs": [
        {
          "output_type": "stream",
          "name": "stdout",
          "text": [
            "andrea\n",
            "ANDREA\n"
          ]
        }
      ]
    },
    {
      "cell_type": "code",
      "source": [
        "# 6. Using a variable, ask your friend if they want to hang out on the 15th of the month.\n",
        "\n",
        "day = 15\n",
        "message = \"Do you want to hang out on the\" + \" \" + str(day) + 'th of this month ?'\n",
        "print(message)"
      ],
      "metadata": {
        "colab": {
          "base_uri": "https://localhost:8080/"
        },
        "id": "-LNKAafv9qM2",
        "outputId": "29115a49-c734-4a00-c4e0-7c92761ac185"
      },
      "execution_count": null,
      "outputs": [
        {
          "output_type": "stream",
          "name": "stdout",
          "text": [
            "Do you want to hang out on the 15th of this month ?\n"
          ]
        }
      ]
    }
  ]
}
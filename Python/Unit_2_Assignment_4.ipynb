{
  "nbformat": 4,
  "nbformat_minor": 0,
  "metadata": {
    "colab": {
      "name": "Unit 2 Assignment 4.ipynb",
      "provenance": [],
      "collapsed_sections": [],
      "authorship_tag": "ABX9TyPosO4ir406AFoFEXnaiJAt",
      "include_colab_link": true
    },
    "kernelspec": {
      "name": "python3",
      "display_name": "Python 3"
    },
    "language_info": {
      "name": "python"
    }
  },
  "cells": [
    {
      "cell_type": "markdown",
      "metadata": {
        "id": "view-in-github",
        "colab_type": "text"
      },
      "source": [
        "<a href=\"https://colab.research.google.com/github/marisol6/Analytics/blob/main/Python/Unit_2_Assignment_4.ipynb\" target=\"_parent\"><img src=\"https://colab.research.google.com/assets/colab-badge.svg\" alt=\"Open In Colab\"/></a>"
      ]
    },
    {
      "cell_type": "markdown",
      "source": [
        "Make a list of 5 or more usernames, including an admin account. Imagine you are writing code\n",
        "that will welcome people to your application on login. Loop through the list and print your\n",
        "greeting.\n",
        "\n",
        "a. If the admin account logs in, give them a special greeting. They’re the admin, after all!\n",
        "\n",
        "b. Other users can get the generic greeting\n"
      ],
      "metadata": {
        "id": "k_rNQABmloHq"
      }
    },
    {
      "cell_type": "code",
      "source": [
        "usernames = ['Hotchner', 'Morgan', 'Reid', 'Jareau', 'Prentice', 'Rossi']\n",
        "admin = usernames[0]\n",
        "\n",
        "for name in usernames:\n",
        "  if name == admin:\n",
        "    print('Welcome ' + name+ ', Unit Chief of the BAU\\n')\n",
        "  else:\n",
        "    print('Welcome ' + name + ', Special Agent of the BAU')\n"
      ],
      "metadata": {
        "colab": {
          "base_uri": "https://localhost:8080/"
        },
        "id": "yIO1o4G2l0a8",
        "outputId": "1a20212b-f77e-47f0-d6c0-3fb891ee4933"
      },
      "execution_count": null,
      "outputs": [
        {
          "output_type": "stream",
          "name": "stdout",
          "text": [
            "Welcome Hotchner, Unit Chief of the BAU\n",
            "\n",
            "Welcome Morgan, Special Agent of the BAU\n",
            "Welcome Reid, Special Agent of the BAU\n",
            "Welcome Jareau, Special Agent of the BAU\n",
            "Welcome Prentice, Special Agent of the BAU\n",
            "Welcome Rossi, Special Agent of the BAU\n"
          ]
        }
      ]
    },
    {
      "cell_type": "markdown",
      "source": [
        "Store numbers 1-10 in a list\n",
        "\n",
        "a. Loop through the list\n",
        "\n",
        "b. Use an if-elif-else chain inside your loop to print the ordinal ending for each number –\n",
        "for example – 1st , 2nd , 3rd … etc."
      ],
      "metadata": {
        "id": "FJZKLjBbl-SS"
      }
    },
    {
      "cell_type": "code",
      "source": [
        "numbers = list(range(1,11))\n",
        "for x in numbers:\n",
        "  if x == 1:\n",
        "    print(str(x) + 'st')\n",
        "  elif x == 2:\n",
        "    print(str(x) + 'nd')\n",
        "  elif x == 3:\n",
        "    print(str(x) + 'rd')\n",
        "  else:\n",
        "    print(str(x) + 'th')\n",
        "  "
      ],
      "metadata": {
        "colab": {
          "base_uri": "https://localhost:8080/"
        },
        "id": "I-COHEVhmFlP",
        "outputId": "bfb51f46-fca2-41f8-9060-44870e033b93"
      },
      "execution_count": null,
      "outputs": [
        {
          "output_type": "stream",
          "name": "stdout",
          "text": [
            "1st\n",
            "2nd\n",
            "3rd\n",
            "4th\n",
            "5th\n",
            "6th\n",
            "7th\n",
            "8th\n",
            "9th\n",
            "10th\n"
          ]
        }
      ]
    }
  ]
}
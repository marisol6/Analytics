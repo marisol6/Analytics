{
  "nbformat": 4,
  "nbformat_minor": 0,
  "metadata": {
    "colab": {
      "name": "Unit 2 Assignment 3.ipynb",
      "provenance": [],
      "collapsed_sections": [],
      "authorship_tag": "ABX9TyOImy0cAftYQuKDMFJL1VVW",
      "include_colab_link": true
    },
    "kernelspec": {
      "name": "python3",
      "display_name": "Python 3"
    },
    "language_info": {
      "name": "python"
    }
  },
  "cells": [
    {
      "cell_type": "markdown",
      "metadata": {
        "id": "view-in-github",
        "colab_type": "text"
      },
      "source": [
        "<a href=\"https://colab.research.google.com/github/marisol6/Analytics/blob/main/Python/Unit_2_Assignment_3.ipynb\" target=\"_parent\"><img src=\"https://colab.research.google.com/assets/colab-badge.svg\" alt=\"Open In Colab\"/></a>"
      ]
    },
    {
      "cell_type": "code",
      "execution_count": null,
      "metadata": {
        "id": "Q4zsBq_3hNe8"
      },
      "outputs": [],
      "source": [
        "# 1. Create a list that holds 5 data variables.\n",
        "\n",
        "states = ['New York', 'New Jersey', 'Massachusetts', 'Florida', 'North Carolina']"
      ]
    },
    {
      "cell_type": "code",
      "source": [
        "# 2. Print out those variables by using a for loop.\n",
        "for state in states:\n",
        "  print(state)"
      ],
      "metadata": {
        "colab": {
          "base_uri": "https://localhost:8080/"
        },
        "id": "7lH-TTIoiKGM",
        "outputId": "2fa1a554-2883-437d-d860-7020f5157dc7"
      },
      "execution_count": null,
      "outputs": [
        {
          "output_type": "stream",
          "name": "stdout",
          "text": [
            "New York\n",
            "New Jersey\n",
            "Massachusetts\n",
            "Florida\n",
            "North Carolina\n"
          ]
        }
      ]
    },
    {
      "cell_type": "code",
      "source": [
        "# 3. Modify your for loop to add a message to your for loop.\n",
        "for state in states:\n",
        "  print(state + ' is on the east coast.')"
      ],
      "metadata": {
        "colab": {
          "base_uri": "https://localhost:8080/"
        },
        "id": "v2lx5qFlBOsi",
        "outputId": "fc3cc245-1bd8-4890-8b64-2d0c78aacf5c"
      },
      "execution_count": null,
      "outputs": [
        {
          "output_type": "stream",
          "name": "stdout",
          "text": [
            "New York is on the east coast.\n",
            "New Jersey is on the east coast.\n",
            "Massachusetts is on the east coast.\n",
            "Florida is on the east coast.\n",
            "North Carolina is on the east coast.\n"
          ]
        }
      ]
    },
    {
      "cell_type": "code",
      "source": [
        "# 4. Use a for loop to print even numbers from 1-20.\n",
        "num = range(1,21)\n",
        "for x in num:\n",
        "  if x % 2 == 0:\n",
        "    print(x)"
      ],
      "metadata": {
        "colab": {
          "base_uri": "https://localhost:8080/"
        },
        "id": "Hw4nLtE4B85g",
        "outputId": "4fe3752a-6950-4970-9dc0-cb87950a727d"
      },
      "execution_count": null,
      "outputs": [
        {
          "output_type": "stream",
          "name": "stdout",
          "text": [
            "2\n",
            "4\n",
            "6\n",
            "8\n",
            "10\n",
            "12\n",
            "14\n",
            "16\n",
            "18\n",
            "20\n"
          ]
        }
      ]
    },
    {
      "cell_type": "code",
      "source": [
        "# 5. Sort your list in alphabetic order.\n",
        "states.sort()\n",
        "print(states)"
      ],
      "metadata": {
        "colab": {
          "base_uri": "https://localhost:8080/"
        },
        "id": "QZAYNQwyCV45",
        "outputId": "f30732f2-a08f-4548-fd14-3c2ccfc479b3"
      },
      "execution_count": null,
      "outputs": [
        {
          "output_type": "stream",
          "name": "stdout",
          "text": [
            "['Florida', 'Massachusetts', 'New Jersey', 'New York', 'North Carolina']\n"
          ]
        }
      ]
    },
    {
      "cell_type": "code",
      "source": [
        "# 6. Print out the first three elements of your list.\n",
        "print(states[0:3])"
      ],
      "metadata": {
        "colab": {
          "base_uri": "https://localhost:8080/"
        },
        "id": "cAm7tXfCC46v",
        "outputId": "6eadd75a-8b91-4a49-996a-f3b35b5dd3d5"
      },
      "execution_count": null,
      "outputs": [
        {
          "output_type": "stream",
          "name": "stdout",
          "text": [
            "['Florida', 'Massachusetts', 'New Jersey']\n"
          ]
        }
      ]
    },
    {
      "cell_type": "code",
      "source": [
        "# 7. Create a loop to print the last 2 elements of your list.\n",
        "for state in states[-2:]:\n",
        "  print(state)"
      ],
      "metadata": {
        "colab": {
          "base_uri": "https://localhost:8080/"
        },
        "id": "yc5NHgnxDWgN",
        "outputId": "1d417b95-3a10-41ba-bc09-c9bd221a96db"
      },
      "execution_count": null,
      "outputs": [
        {
          "output_type": "stream",
          "name": "stdout",
          "text": [
            "New York\n",
            "North Carolina\n"
          ]
        }
      ]
    }
  ]
}